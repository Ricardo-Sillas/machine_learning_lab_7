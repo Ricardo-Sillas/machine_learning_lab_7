{
  "nbformat": 4,
  "nbformat_minor": 0,
  "metadata": {
    "colab": {
      "provenance": []
    },
    "kernelspec": {
      "name": "python3",
      "display_name": "Python 3"
    },
    "gpuClass": "standard"
  },
  "cells": [
    {
      "cell_type": "markdown",
      "source": [
        "## **Before you start**\n",
        "\n",
        "Make a copy of this Colab by clicking on File > Save a Copy in Drive\n",
        "\n",
        "After making a copy, add your student id, last name, and first name to the title."
      ],
      "metadata": {
        "id": "IBzf9VHDzp9J"
      }
    },
    {
      "cell_type": "code",
      "source": [
        "student_name = \"Ricardo Sillas\"\n",
        "student_id = \"88613474\"\n",
        "\n",
        "print(\"Identifying Information: \",student_name+\",\"+student_id); # Don't change this line.\n"
      ],
      "metadata": {
        "id": "RAZs8It7zr2E",
        "colab": {
          "base_uri": "https://localhost:8080/"
        },
        "outputId": "995c768b-8946-499b-de32-0f361b4cce3f"
      },
      "execution_count": null,
      "outputs": [
        {
          "output_type": "stream",
          "name": "stdout",
          "text": [
            "Identifying Information:  Ricardo Sillas,88613474\n"
          ]
        }
      ]
    },
    {
      "cell_type": "markdown",
      "metadata": {
        "id": "MKsRDH5ZUdfasdv"
      },
      "source": [
        "# Classifying Images\n"
      ]
    },
    {
      "cell_type": "markdown",
      "metadata": {
        "id": "43534tdfgs-v"
      },
      "source": [
        "This exercise is about classifying images - just like Lab 1. Each input is a grid of pixel values and each output is a label from a small set of labels. You will start with a simple binary classifier and finish with a multi-class one."
      ]
    },
    {
      "cell_type": "markdown",
      "metadata": {
        "id": "6gKL1mrkyLux"
      },
      "source": [
        "### Grading\n",
        "\n",
        "This assignment is worth a total of 100 points."
      ]
    },
    {
      "cell_type": "code",
      "metadata": {
        "id": "7X58hOMTUH-w"
      },
      "source": [
        "# Import the libraries we'll use below.\n",
        "import numpy as np\n",
        "from matplotlib import pyplot as plt\n",
        "import pandas as pd\n",
        "import seaborn as sns  # for nicer plots\n",
        "sns.set(style='darkgrid')  # default style\n",
        "\n",
        "import tensorflow as tf\n",
        "from tensorflow import keras\n",
        "from keras import metrics"
      ],
      "execution_count": null,
      "outputs": []
    },
    {
      "cell_type": "markdown",
      "metadata": {
        "id": "rHLcriKWLRe4"
      },
      "source": [
        "## Understanding the data\n",
        "We'll be using the [Fashion MNIST](https://github.com/zalandoresearch/fashion-mnist) dataset. This consists of 70,000 grayscale images (28x28). Each image is associated with 1 of 10 classes. The dataset was split by the creators; there are 60,000 training images and 10,000 test images. \n",
        "\n",
        "Fashion MNIST classes:\n",
        "* T-shirt/top\n",
        "* Trouser\n",
        "* Pullover\n",
        "* Dress\n",
        "* Coat\n",
        "* Sandal\n",
        "* Shirt\n",
        "* Sneaker\n",
        "* Bag\n",
        "* Ankle boot\n",
        "\n",
        "Before doing anything, let's make sure we understand what we're working with. "
      ]
    },
    {
      "cell_type": "markdown",
      "metadata": {
        "id": "load_auto_data_set_text"
      },
      "source": [
        "### Load the data\n",
        "Tensorflow includes a growing [library of datasets](https://www.tensorflow.org/datasets/catalog/overview) and makes it easy to load them in numpy arrays."
      ]
    },
    {
      "cell_type": "code",
      "metadata": {
        "id": "load_auto_data_set_code"
      },
      "source": [
        "from keras.datasets import fashion_mnist\n",
        "\n",
        "# Load the Fashion MNIST dataset.\n",
        "(X_train, Y_train), (X_test, Y_test) = fashion_mnist.load_data()\n",
        "\n",
        "# Flatten Y_train and Y_test, so they become vectors of label values.\n",
        "# The label for X_train[0] is in Y_train[0].\n",
        "Y_train = Y_train.flatten()\n",
        "Y_test = Y_test.flatten()\n",
        "\n",
        "np.random.seed(0) # For reproducibility purposes\n",
        "\n",
        "# Shuffle the order of the training examples.\n",
        "indices = np.arange(X_train.shape[0])\n",
        "shuffled_indices = np.random.permutation(indices)\n",
        "\n",
        "X_train = X_train[shuffled_indices]\n",
        "Y_train = Y_train[shuffled_indices]"
      ],
      "execution_count": null,
      "outputs": []
    },
    {
      "cell_type": "markdown",
      "metadata": {
        "id": "Eg9mUz9zcIil"
      },
      "source": [
        "### Basic Analysis\n",
        "Notice that `X_train`, `Y_train`, `X_test`, and `Y_test` are all numpy arrays. Let's print their shapes to confirm."
      ]
    },
    {
      "cell_type": "code",
      "metadata": {
        "id": "H6jGmsYAdKEK",
        "colab": {
          "base_uri": "https://localhost:8080/"
        },
        "outputId": "c14c89df-92e4-4927-9259-42d3f87438ab"
      },
      "source": [
        "# Show the data shapes.\n",
        "print('X_train.shape:', X_train.shape)\n",
        "print('Y_train.shape:', Y_train.shape)\n",
        "print('X_test.shape:', X_test.shape)\n",
        "print('Y_test.shape:', Y_test.shape)"
      ],
      "execution_count": null,
      "outputs": [
        {
          "output_type": "stream",
          "name": "stdout",
          "text": [
            "X_train.shape: (60000, 28, 28)\n",
            "Y_train.shape: (60000,)\n",
            "X_test.shape: (10000, 28, 28)\n",
            "Y_test.shape: (10000,)\n"
          ]
        }
      ]
    },
    {
      "cell_type": "markdown",
      "metadata": {
        "id": "fDeim44-dler"
      },
      "source": [
        "Notice that there are 60,000 instances in `X_train`. Each of these is a grayscale image represented by an 28-by-28 array of grayscale pixel values between 0 and 255 (the larger the value, the lighter the pixel). Before we continue, let's apply linear scaling to our pixel values, so they all fall between 0 and 1."
      ]
    },
    {
      "cell_type": "code",
      "metadata": {
        "id": "wXukkWBWdlGj"
      },
      "source": [
        "# Pixel values range from 0 to 255. To normalize the data, we just need to \n",
        "# divide all values by 255.\n",
        "X_train = X_train / 255\n",
        "X_test = X_test / 255"
      ],
      "execution_count": null,
      "outputs": []
    },
    {
      "cell_type": "markdown",
      "metadata": {
        "id": "oWsOQ3tbCOA7"
      },
      "source": [
        "In class, we talked about features - properties that characterize our data. Here, we treat **every pixel value as a separate feature**, so each input example has 28x28 (784) features!\n",
        "\n",
        "Fashion MNIST images have one of 10 possible labels (shown above). Since the labels are indices 0-9, let's keep a list of (string) names for convenience."
      ]
    },
    {
      "cell_type": "code",
      "metadata": {
        "id": "cZpFxxStzSrP",
        "colab": {
          "base_uri": "https://localhost:8080/"
        },
        "outputId": "e2e79824-8cd5-4a04-814c-804cbee5337c"
      },
      "source": [
        "label_names = ['t-shirt', 'trouser', 'pullover', 'dress', 'coat',\n",
        "               'sandal', 'shirt', 'sneaker', 'bag', 'ankle boot']\n",
        "\n",
        "# Show the first 5 training labels.\n",
        "print('First 5 label values:', Y_train[0:5])\n",
        "print('Mapped to their names:', [label_names[i] for i in Y_train[0:5]])\n"
      ],
      "execution_count": null,
      "outputs": [
        {
          "output_type": "stream",
          "name": "stdout",
          "text": [
            "First 5 label values: [0 2 6 5 2]\n",
            "Mapped to their names: ['t-shirt', 'pullover', 'shirt', 'sandal', 'pullover']\n"
          ]
        }
      ]
    },
    {
      "cell_type": "markdown",
      "metadata": {
        "id": "c5aXeK2VznCW"
      },
      "source": [
        "Next let's use the `imshow` function to look at the first few images in the training set."
      ]
    },
    {
      "cell_type": "code",
      "metadata": {
        "id": "7mfV9b4I7cMW",
        "colab": {
          "base_uri": "https://localhost:8080/",
          "height": 143
        },
        "outputId": "69d010cc-fe3c-4d71-acd8-f42d7e762392"
      },
      "source": [
        "# Create a figure with subplots. This returns a list of object handles in axs\n",
        "# which we can use populate the plots.\n",
        "fig, axs = plt.subplots(nrows=1, ncols=5, figsize=(10,5))\n",
        "for i in range(5):\n",
        "  image = X_train[i]\n",
        "  label = Y_train[i]\n",
        "  label_name = label_names[label]\n",
        "  axs[i].imshow(image, cmap='gray')  # imshow renders a 2D grid\n",
        "  axs[i].set_title(label_name)\n",
        "  axs[i].axis('off')\n",
        "plt.show()"
      ],
      "execution_count": null,
      "outputs": [
        {
          "output_type": "display_data",
          "data": {
            "text/plain": [
              "<Figure size 720x360 with 5 Axes>"
            ],
            "image/png": "[encoded data removed]"
          },
          "metadata": {}
        }
      ]
    },
    {
      "cell_type": "markdown",
      "metadata": {
        "id": "qNvSx5tybqMR"
      },
      "source": [
        "## Problem Definition: Sneaker Classifier\n",
        "There are many things we can do with this dataset. Following our lectures, let's start with binary classification. We'll use logistic regression to build a sneaker classifier. Our positive examples ($y=1$) will be sneaker images (class 7) and our negative examples ($y=0$) will be all other images.\n",
        "\n",
        "The idea is that our model, given an image $x$, will produce $\\hat{y}$, the probability that $x$ is a sneaker.\n"
      ]
    },
    {
      "cell_type": "markdown",
      "metadata": {
        "id": "E01QY9SRpwPE"
      },
      "source": [
        "### Logistic Regression\n",
        "\n",
        "Recall that logistic regression is an application of the logistic (sigmoid) function to the linear regression model:\n",
        "\n",
        "\\begin{equation}\n",
        "y=\\frac{1}{1+e^{-z}} \n",
        "\\end{equation}\n",
        "\n",
        "<center>\n",
        "<img src=\"https://developers.google.com/machine-learning/crash-course/images/SigmoidFunction.png\" alt=\"Sigmoid Function\" width=\"45%\"/>\n",
        "</center>\n",
        "\n",
        "where:\n",
        "\n",
        "\\begin{equation}\n",
        "z= b + w_1x_1 + w_2x_2 + ... + w_nx_n\n",
        "\\end{equation}\n",
        "\n",
        "In order to map a logistic regression value to a label, a classification threshold needs to be defined. A value above or equal to that threshold indicates that the input should be classified as positive (e.g., sneaker); a value below the threshold indicates that the input should be classified as negative (e.g., non-sneaker).  \n",
        "\n",
        "\n"
      ]
    },
    {
      "cell_type": "markdown",
      "source": [
        "#### Log Loss\n",
        "\n",
        "The loss function for logistic regression is Log Loss (also known as binary cross-entropy), which is defined as follows: \n",
        "\n",
        "\\begin{equation}\n",
        "-\\frac{1}{|Y|} \\sum_{y_i \\in Y}y_i log(\\hat{y}_i) + (1−y_i)log(1−\\hat{y}_i)\n",
        "\\end{equation}\n",
        "\n",
        "Remember that $y$ is either 0 or 1, so either the left term or the right term is active for each example.\n",
        "\n",
        "Log loss is differentiable and convex, and as we have seen, the gradient turns out to be identical to that of MSE in linear regression."
      ],
      "metadata": {
        "id": "487SVTAn9fHl"
      }
    },
    {
      "cell_type": "markdown",
      "metadata": {
        "id": "DvcJJ_rUifF2"
      },
      "source": [
        "### Data Preprocessing\n",
        "Before we continue, we need to prepare the data for this binary classification task. We'll map sneaker image laebls to 1 (the positive class) and all other images to 0 (the negative class).\n",
        "\n",
        "Programming note: Numpy allows us to perform what is called [boolean array indexing](https://docs.scipy.org/doc/numpy/reference/arrays.indexing.html#boolean-array-indexing)\n",
        "This means that a numpy array $A$ can be indexed using a boolean array $B$\n",
        "as follows: $A[B]$.\n",
        "We'll take advantage of this type of indexing to prepare the labels for our binary classification task below."
      ]
    },
    {
      "cell_type": "code",
      "metadata": {
        "id": "3webN4USifuB"
      },
      "source": [
        "# Make copies of the original labels.\n",
        "Y_train_binary = np.copy(Y_train)\n",
        "Y_test_binary = np.copy(Y_test)\n",
        "\n",
        "# Update labels: 1 for sneaker images; 0 for the rest.\n",
        "# Note that a boolean array is created when Y_train_binary != 7 is evaluated.\n",
        "Y_train_binary[Y_train_binary != 7] = 0.0 \n",
        "Y_train_binary[Y_train_binary == 7] = 1.0\n",
        "Y_test_binary[Y_test_binary != 7] = 0.0\n",
        "Y_test_binary[Y_test_binary == 7] = 1.0\n",
        "# Cool, right?"
      ],
      "execution_count": null,
      "outputs": []
    },
    {
      "cell_type": "markdown",
      "metadata": {
        "id": "TGgQ-ASYiHbK"
      },
      "source": [
        "### Baseline\n",
        "\n",
        "When dealing with classification problems, a simple, but useful baseline is to select the *majority* class (the most common label in the training set) and use it as the prediction for all inputs.\n",
        "\n",
        "Our training dataset consists of 6,000 sneaker examples (10%), and 54,000 non-sneaker images (90%), so our majority class baseline classifies everything as *non-sneaker*, and will have an accuracy of 90%. We will see if we can beat this baseline with k-NN."
      ]
    },
    {
      "cell_type": "code",
      "metadata": {
        "id": "ls30LfwsIZCv",
        "colab": {
          "base_uri": "https://localhost:8080/"
        },
        "outputId": "17734af4-b3fd-4a44-b819-4f56c57d81e9"
      },
      "source": [
        "print('Number of sneaker images in training set:', (Y_train_binary == 1).sum())\n",
        "print('Number of non-sneaker images in training set:', (Y_train_binary == 0).sum())"
      ],
      "execution_count": null,
      "outputs": [
        {
          "output_type": "stream",
          "name": "stdout",
          "text": [
            "Number of sneaker images in training set: 6000\n",
            "Number of non-sneaker images in training set: 54000\n"
          ]
        }
      ]
    },
    {
      "cell_type": "markdown",
      "source": [
        "#### Exercise 1 (25 points)\n",
        "\n",
        "Implement a function that computes the Log Loss (binary cross-entropy) metric and use it to evaluate our baseline on both the train and test data. Use 0.1 as the predicted probability for your baseline (reflecting what we know about the original distribution of classes in our dataset)."
      ],
      "metadata": {
        "id": "Im_2S20J81PV"
      }
    },
    {
      "cell_type": "code",
      "source": [
        "def log_loss(Y_true, Y_pred):\n",
        "  \"\"\"Returns the binary log loss for a list of labels and predictions.\n",
        "\n",
        "  Args:\n",
        "    Y_true: A list of (true) labels (0 or 1)\n",
        "    Y_pred: A list of corresponding predicted probabilities\n",
        "\n",
        "  Returns:\n",
        "    Binary log loss\n",
        "  \"\"\"\n",
        "  return -np.mean(Y_true*np.log(Y_pred)+(1-Y_true)*np.log(1-Y_pred))"
      ],
      "metadata": {
        "id": "gXXYAkch85MN"
      },
      "execution_count": null,
      "outputs": []
    },
    {
      "cell_type": "code",
      "source": [
        "# Evaluate baseline on both the train and test data. Use 0.1 as the predicted probability for your baseline \n",
        "baseline_train = np.zeros(np.shape(Y_train_binary)) + 0.1\n",
        "print(log_loss(Y_train_binary, baseline_train))\n",
        "\n",
        "baseline_test = np.zeros(np.shape(Y_test_binary)) + 0.1\n",
        "print(log_loss(Y_test_binary, baseline_test))"
      ],
      "metadata": {
        "id": "6Hvql8IW_QqY",
        "colab": {
          "base_uri": "https://localhost:8080/"
        },
        "outputId": "349a4485-301f-419a-8042-300ef7d00410"
      },
      "execution_count": null,
      "outputs": [
        {
          "output_type": "stream",
          "name": "stdout",
          "text": [
            "0.32508297339144815\n",
            "0.3250829733914482\n"
          ]
        }
      ]
    },
    {
      "cell_type": "markdown",
      "source": [
        "## Binary Logistic Regression Classification\n",
        "Now that we have our data ready, let's build our binary classifier! \n",
        "\n",
        "Once again, we will use Tensorflow/Keras to build our logistic regression model. "
      ],
      "metadata": {
        "id": "VJrsee2tRp_I"
      }
    },
    {
      "cell_type": "code",
      "source": [
        "def build_model(input_shape, learning_rate=0.1):\n",
        "  \"\"\"Build a TF logistic regression model using Keras.\n",
        "\n",
        "  Args:\n",
        "    input_shape: The shape of the model's input. \n",
        "    learning_rate: The desired learning rate for SGD.\n",
        "\n",
        "  Returns:\n",
        "    model: A tf.keras model (graph).\n",
        "  \"\"\"\n",
        "  # Reset TF and random seed (for reproducible results).\n",
        "  tf.keras.backend.clear_session()\n",
        "  tf.random.set_seed(0)\n",
        "\n",
        "  # Use the Keras Sequential API as before.\n",
        "  model = keras.Sequential()\n",
        "\n",
        "  # Keras layers can do pre-processing. This layer will take our 28x28 images\n",
        "  # and flatten them into vectors of size 784.\n",
        "  model.add(keras.layers.Flatten(input_shape=input_shape))\n",
        "  \n",
        "  # This layer constructs the linear set of parameters for each input feature\n",
        "  # (as well as a bias), and applies a sigmoid to the result. The result is\n",
        "  # binary logistic regression.\n",
        "  model.add(keras.layers.Dense(\n",
        "      units=1,                     # output dim (for binary classification)\n",
        "      use_bias=True,               # use a bias param\n",
        "      activation='sigmoid'         # apply the sigmoid function!\n",
        "  ))\n",
        "\n",
        "  # We'll use mini-batch SGD and can specify the batch size later.\n",
        "  optimizer = tf.keras.optimizers.SGD(learning_rate=learning_rate)\n",
        "\n",
        "  # Compile the model.\n",
        "  model.compile(loss='binary_crossentropy', \n",
        "                optimizer=optimizer, \n",
        "                metrics=[metrics.binary_accuracy])\n",
        "\n",
        "  return model"
      ],
      "metadata": {
        "id": "w6z6az-nKfhe"
      },
      "execution_count": null,
      "outputs": []
    },
    {
      "cell_type": "markdown",
      "source": [
        "Let's make sure we can build a model. Before training, the parameters of the model are initialized randomly (this is the default). While the untrained model won't make good predictions, we should still be able to pass data through it and get probability outputs.\n"
      ],
      "metadata": {
        "id": "SygQnB7F9GCU"
      }
    },
    {
      "cell_type": "code",
      "source": [
        "# Build the model. Notice that we are passing the shape of our images to\n",
        "# the model, as Keras needs to know the dimension of the input.\n",
        "model = build_model(input_shape=X_train[0].shape)\n",
        "\n",
        "# Make a prediction for five inputs.\n",
        "print(model.predict(X_train[0:5]))"
      ],
      "metadata": {
        "id": "aYDm5Rag9IuU",
        "colab": {
          "base_uri": "https://localhost:8080/"
        },
        "outputId": "366eb773-8910-4084-e503-2823d986e204"
      },
      "execution_count": null,
      "outputs": [
        {
          "output_type": "stream",
          "name": "stdout",
          "text": [
            "1/1 [==============================] - 0s 314ms/step\n",
            "[[0.24910644]\n",
            " [0.19025402]\n",
            " [0.14809628]\n",
            " [0.4885778 ]\n",
            " [0.32321048]]\n"
          ]
        }
      ]
    },
    {
      "cell_type": "markdown",
      "source": [
        "As expected, the outputs look like probabilities (in [0,1]). Once the model is trained, we hope that these predictions correspond to the probability that each input image is a sneaker.\n"
      ],
      "metadata": {
        "id": "00KXxrMS9Hhe"
      }
    },
    {
      "cell_type": "markdown",
      "source": [
        "### Training\n",
        "Let's train the model. Note that we're using 10% of the training data as a *validation split*. This serves a similar purpose to our test data, allowing us to check for over-fitting during training. We don't use the test data here because we might run lots of experiments, and over time, we might adjust settings to improve results on the validation set. We want to preserve the purity of the test data so we can the cleanest possible evaluation at the end of the experimentation process."
      ],
      "metadata": {
        "id": "pW5p-WVl9Mth"
      }
    },
    {
      "cell_type": "code",
      "source": [
        "model = build_model(input_shape=X_train[0].shape, learning_rate=0.1)\n",
        "\n",
        "# Fit the model.\n",
        "history = model.fit(\n",
        "  x = X_train,          # our binary training examples\n",
        "  y = Y_train_binary,   # corresponding binary labels\n",
        "  epochs=5,             # number of passes through the training data\n",
        "  batch_size=64,        # mini-batch size for SGD\n",
        "  validation_split=0.1, # use a fraction of the examples for validation\n",
        "  verbose=1             # display some progress output during training\n",
        "  )\n",
        "\n",
        "# Convert the return value into a DataFrame so we can see the train loss \n",
        "# and binary accuracy after every epoch.\n",
        "history = pd.DataFrame(history.history)\n",
        "display(history)"
      ],
      "metadata": {
        "id": "QfM7eJcQ9N2k",
        "colab": {
          "base_uri": "https://localhost:8080/",
          "height": 380
        },
        "outputId": "805f73dd-5631-4e3d-fd0c-a135ec9e88be"
      },
      "execution_count": null,
      "outputs": [
        {
          "output_type": "stream",
          "name": "stdout",
          "text": [
            "Epoch 1/5\n",
            "844/844 [==============================] - 2s 2ms/step - loss: 0.0910 - binary_accuracy: 0.9652 - val_loss: 0.0782 - val_binary_accuracy: 0.9687\n",
            "Epoch 2/5\n",
            "844/844 [==============================] - 2s 2ms/step - loss: 0.0668 - binary_accuracy: 0.9759 - val_loss: 0.0687 - val_binary_accuracy: 0.9737\n",
            "Epoch 3/5\n",
            "844/844 [==============================] - 2s 2ms/step - loss: 0.0602 - binary_accuracy: 0.9786 - val_loss: 0.0645 - val_binary_accuracy: 0.9748\n",
            "Epoch 4/5\n",
            "844/844 [==============================] - 2s 2ms/step - loss: 0.0565 - binary_accuracy: 0.9798 - val_loss: 0.0620 - val_binary_accuracy: 0.9767\n",
            "Epoch 5/5\n",
            "844/844 [==============================] - 2s 2ms/step - loss: 0.0543 - binary_accuracy: 0.9803 - val_loss: 0.0605 - val_binary_accuracy: 0.9765\n"
          ]
        },
        {
          "output_type": "display_data",
          "data": {
            "text/plain": [
              "       loss  binary_accuracy  val_loss  val_binary_accuracy\n",
              "0  0.091040         0.965204  0.078212             0.968667\n",
              "1  0.066774         0.975870  0.068692             0.973667\n",
              "2  0.060177         0.978556  0.064469             0.974833\n",
              "3  0.056494         0.979796  0.062037             0.976667\n",
              "4  0.054269         0.980315  0.060491             0.976500"
            ],
            "text/html": [
              "\n",
              "  <div id=\"df-3daf27b4-47b7-4237-8196-6740a9eaf5af\">\n",
              "    <div class=\"colab-df-container\">\n",
              "      <div>\n",
              "<style scoped>\n",
              "    .dataframe tbody tr th:only-of-type {\n",
              "        vertical-align: middle;\n",
              "    }\n",
              "\n",
              "    .dataframe tbody tr th {\n",
              "        vertical-align: top;\n",
              "    }\n",
              "\n",
              "    .dataframe thead th {\n",
              "        text-align: right;\n",
              "    }\n",
              "</style>\n",
              "<table border=\"1\" class=\"dataframe\">\n",
              "  <thead>\n",
              "    <tr style=\"text-align: right;\">\n",
              "      <th></th>\n",
              "      <th>loss</th>\n",
              "      <th>binary_accuracy</th>\n",
              "      <th>val_loss</th>\n",
              "      <th>val_binary_accuracy</th>\n",
              "    </tr>\n",
              "  </thead>\n",
              "  <tbody>\n",
              "    <tr>\n",
              "      <th>0</th>\n",
              "      <td>0.091040</td>\n",
              "      <td>0.965204</td>\n",
              "      <td>0.078212</td>\n",
              "      <td>0.968667</td>\n",
              "    </tr>\n",
              "    <tr>\n",
              "      <th>1</th>\n",
              "      <td>0.066774</td>\n",
              "      <td>0.975870</td>\n",
              "      <td>0.068692</td>\n",
              "      <td>0.973667</td>\n",
              "    </tr>\n",
              "    <tr>\n",
              "      <th>2</th>\n",
              "      <td>0.060177</td>\n",
              "      <td>0.978556</td>\n",
              "      <td>0.064469</td>\n",
              "      <td>0.974833</td>\n",
              "    </tr>\n",
              "    <tr>\n",
              "      <th>3</th>\n",
              "      <td>0.056494</td>\n",
              "      <td>0.979796</td>\n",
              "      <td>0.062037</td>\n",
              "      <td>0.976667</td>\n",
              "    </tr>\n",
              "    <tr>\n",
              "      <th>4</th>\n",
              "      <td>0.054269</td>\n",
              "      <td>0.980315</td>\n",
              "      <td>0.060491</td>\n",
              "      <td>0.976500</td>\n",
              "    </tr>\n",
              "  </tbody>\n",
              "</table>\n",
              "</div>\n",
              "      <button class=\"colab-df-convert\" onclick=\"convertToInteractive('df-3daf27b4-47b7-4237-8196-6740a9eaf5af')\"\n",
              "              title=\"Convert this dataframe to an interactive table.\"\n",
              "              style=\"display:none;\">\n",
              "        \n",
              "  <svg xmlns=\"http://www.w3.org/2000/svg\" height=\"24px\"viewBox=\"0 0 24 24\"\n",
              "       width=\"24px\">\n",
              "    <path d=\"M0 0h24v24H0V0z\" fill=\"none\"/>\n",
              "    <path d=\"M18.56 5.44l.94 2.06.94-2.06 2.06-.94-2.06-.94-.94-2.06-.94 2.06-2.06.94zm-11 1L8.5 8.5l.94-2.06 2.06-.94-2.06-.94L8.5 2.5l-.94 2.06-2.06.94zm10 10l.94 2.06.94-2.06 2.06-.94-2.06-.94-.94-2.06-.94 2.06-2.06.94z\"/><path d=\"M17.41 7.96l-1.37-1.37c-.4-.4-.92-.59-1.43-.59-.52 0-1.04.2-1.43.59L10.3 9.45l-7.72 7.72c-.78.78-.78 2.05 0 2.83L4 21.41c.39.39.9.59 1.41.59.51 0 1.02-.2 1.41-.59l7.78-7.78 2.81-2.81c.8-.78.8-2.07 0-2.86zM5.41 20L4 18.59l7.72-7.72 1.47 1.35L5.41 20z\"/>\n",
              "  </svg>\n",
              "      </button>\n",
              "      \n",
              "  <style>\n",
              "    .colab-df-container {\n",
              "      display:flex;\n",
              "      flex-wrap:wrap;\n",
              "      gap: 12px;\n",
              "    }\n",
              "\n",
              "    .colab-df-convert {\n",
              "      background-color: #E8F0FE;\n",
              "      border: none;\n",
              "      border-radius: 50%;\n",
              "      cursor: pointer;\n",
              "      display: none;\n",
              "      fill: #1967D2;\n",
              "      height: 32px;\n",
              "      padding: 0 0 0 0;\n",
              "      width: 32px;\n",
              "    }\n",
              "\n",
              "    .colab-df-convert:hover {\n",
              "      background-color: #E2EBFA;\n",
              "      box-shadow: 0px 1px 2px rgba(60, 64, 67, 0.3), 0px 1px 3px 1px rgba(60, 64, 67, 0.15);\n",
              "      fill: #174EA6;\n",
              "    }\n",
              "\n",
              "    [theme=dark] .colab-df-convert {\n",
              "      background-color: #3B4455;\n",
              "      fill: #D2E3FC;\n",
              "    }\n",
              "\n",
              "    [theme=dark] .colab-df-convert:hover {\n",
              "      background-color: #434B5C;\n",
              "      box-shadow: 0px 1px 3px 1px rgba(0, 0, 0, 0.15);\n",
              "      filter: drop-shadow(0px 1px 2px rgba(0, 0, 0, 0.3));\n",
              "      fill: #FFFFFF;\n",
              "    }\n",
              "  </style>\n",
              "\n",
              "      <script>\n",
              "        const buttonEl =\n",
              "          document.querySelector('#df-3daf27b4-47b7-4237-8196-6740a9eaf5af button.colab-df-convert');\n",
              "        buttonEl.style.display =\n",
              "          google.colab.kernel.accessAllowed ? 'block' : 'none';\n",
              "\n",
              "        async function convertToInteractive(key) {\n",
              "          const element = document.querySelector('#df-3daf27b4-47b7-4237-8196-6740a9eaf5af');\n",
              "          const dataTable =\n",
              "            await google.colab.kernel.invokeFunction('convertToInteractive',\n",
              "                                                     [key], {});\n",
              "          if (!dataTable) return;\n",
              "\n",
              "          const docLinkHtml = 'Like what you see? Visit the ' +\n",
              "            '<a target=\"_blank\" href=https://colab.research.google.com/notebooks/data_table.ipynb>data table notebook</a>'\n",
              "            + ' to learn more about interactive tables.';\n",
              "          element.innerHTML = '';\n",
              "          dataTable['output_type'] = 'display_data';\n",
              "          await google.colab.output.renderOutput(dataTable, element);\n",
              "          const docLink = document.createElement('div');\n",
              "          docLink.innerHTML = docLinkHtml;\n",
              "          element.appendChild(docLink);\n",
              "        }\n",
              "      </script>\n",
              "    </div>\n",
              "  </div>\n",
              "  "
            ]
          },
          "metadata": {}
        }
      ]
    },
    {
      "cell_type": "markdown",
      "source": [
        "Good news! Both training accuracy and validation accuracy are near 98\\% (and the loss should be quite a bit lower than your baseline loss calculation above). This means the classifier is quite a bit better than the majority-class baseline.\n"
      ],
      "metadata": {
        "id": "hA5gGe4w9PXT"
      }
    },
    {
      "cell_type": "markdown",
      "source": [
        "### Inference\n",
        "\n",
        "Let's use the trained model to predict probabilities for the test data. We can use `predict` to run *inference*. The probabilities output by the model will be the probability of the positive class.\n"
      ],
      "metadata": {
        "id": "i-ZN_ByO9Rk1"
      }
    },
    {
      "cell_type": "code",
      "source": [
        "# The result of model.predict has an extra dimension, so we flatten to get a\n",
        "# vector of predictions.\n",
        "test_predictions = model.predict(X_test).flatten()\n",
        "print(test_predictions.shape)\n",
        "print(test_predictions)"
      ],
      "metadata": {
        "id": "CgyV4BZ89S-C",
        "colab": {
          "base_uri": "https://localhost:8080/"
        },
        "outputId": "333bf0ab-366e-4e24-b76f-7e7f918b0210"
      },
      "execution_count": null,
      "outputs": [
        {
          "output_type": "stream",
          "name": "stdout",
          "text": [
            "313/313 [==============================] - 0s 1ms/step\n",
            "(10000,)\n",
            "[1.0977584e-01 2.8155251e-11 2.0796953e-04 ... 3.6519708e-04 1.2559564e-03\n",
            " 1.1463588e-01]\n"
          ]
        }
      ]
    },
    {
      "cell_type": "markdown",
      "source": [
        "Now that we have probabilities for all images in `X_test`, let's evaluate how well the model performed on our test set. \n"
      ],
      "metadata": {
        "id": "dHMhPUWI9VDV"
      }
    },
    {
      "cell_type": "markdown",
      "metadata": {
        "id": "e9hk2vg9A1dm"
      },
      "source": [
        "### Evaluation\n",
        "To turn probabilities into binary predictions, we need to choose a classification threshold. A probability greater than or equal to threshold indicates class *sneaker*, while a value less than the threshold indicates class *non-sneaker*. Once we have binary predictions, we can evaluate performance with some different metrics.\n",
        "\n",
        "A **true positive** is an outcome where the model correctly predicts the positive class. Similarly, a **true negative** is an outcome where the model correctly predicts the negative class.\n",
        "\n",
        "A **false positive** is an outcome where the model incorrectly predicts the positive class. And a **false negative** is an outcome where the model incorrectly predicts the negative class.\n",
        "\n",
        "Using these, we can construct a **confusion matrix**, a table that summarizes performance using these 4 result categories.\n",
        "\n",
        "|                     | Sneaker (Actual)    | Non-Sneaker (Actual) |\n",
        "|---------------------|-----------------|------------------|\n",
        "| **Sneaker (Predicted)**     | Number of True Positives  | Number of False Positives  |\n",
        "| **Non-Sneaker (Predicted)** | Number of False Negatives | Number of True Negatives   |\n"
      ]
    },
    {
      "cell_type": "markdown",
      "metadata": {
        "id": "jc9RWUR2I_i_"
      },
      "source": [
        "**Accuracy** is the fraction of examples our model classified correctly (correct / total):\n",
        "\n",
        "\\begin{equation}\n",
        "Accuracy = \\frac{TP + TN}{TP + TN + FP + FN}\n",
        "\\end{equation}\n",
        "\n",
        "**Precision** is the proportion of positive predictions that were actually correct:\n",
        "\n",
        "\\begin{equation}\n",
        "Precision = \\frac{TP}{TP + FP}\n",
        "\\end{equation}\n",
        "\n",
        "**Recall** is the proportion of actual positives that were predicted correctly:\n",
        "\n",
        "\\begin{equation}\n",
        "Recall = \\frac{TP}{TP + FN}\n",
        "\\end{equation}\n",
        "\n",
        "Changing the threshold will change precision and recall, typically with a trade-off: improving precision reduces recall (and vice-versa)."
      ]
    },
    {
      "cell_type": "markdown",
      "metadata": {
        "id": "Ck0yxzxx9Qww"
      },
      "source": [
        "#### Exercise 2 (25 points)\n",
        "\n",
        "\n",
        "Do the following for each of these classification thresholds [0.1, 0.3, 0.5, 0.7, 0.9] using the `test_predictions` (predicted probabilities) and `Y_test_binary` (actual labels):\n",
        "\n",
        "1.   Compute and print counts of [tp, tn, fp, fn], corresponding to the confusion matrix.\n",
        "2.   Compute and print the accuracy, precision, and recall.\n",
        "\n",
        "**Feel free to reuse your solution for Lab 1 and/or use sklearn**"
      ]
    },
    {
      "cell_type": "code",
      "metadata": {
        "id": "Ppmrnh0-jY7-",
        "colab": {
          "base_uri": "https://localhost:8080/"
        },
        "outputId": "2a11ddf1-b1e0-4a6e-a19b-d3a0378fecd4"
      },
      "source": [
        "threshold1 = np.copy(test_predictions)\n",
        "threshold2 = np.copy(test_predictions)\n",
        "threshold3 = np.copy(test_predictions)\n",
        "threshold4 = np.copy(test_predictions)\n",
        "threshold5 = np.copy(test_predictions)\n",
        "\n",
        "def get_information(threshold, value):\n",
        "  threshold[threshold >= value] = 1\n",
        "  threshold[threshold < value] = 0\n",
        "  tp = np.sum(threshold * Y_test_binary)\n",
        "  tn = threshold.size - np.count_nonzero(threshold + Y_test_binary)\n",
        "  fp = np.sum(threshold) - tp\n",
        "  fn = (threshold.size -np.count_nonzero(threshold)) - tn\n",
        "  return [tp, tn, fp, fn]\n",
        "\n",
        "info1 = get_information(threshold1, 0.1)\n",
        "print('tp: ', info1[0], '\\ntn: ', info1[1], '\\nfp: ', info1[2], '\\nfn: ', info1[3],\n",
        "      '\\naccuracy: ', (info1[0]+info1[1])/(info1[0]+info1[1]+info1[2]+info1[3]), \n",
        "      '\\nprecision: ', info1[0]/(info1[0]+info1[2]), '\\nrecall: ', info1[0]/(info1[0]+info1[3]), end = '\\n\\n')\n",
        "\n",
        "info2 = get_information(threshold2, 0.3)\n",
        "print('tp: ', info2[0], '\\ntn: ', info2[1], '\\nfp: ', info2[2], '\\nfn: ', info2[3],\n",
        "      '\\naccuracy: ', (info2[0]+info2[1])/(info2[0]+info2[1]+info2[2]+info2[3]), \n",
        "      '\\nprecision: ', info2[0]/(info2[0]+info2[2]), '\\nrecall: ', info2[0]/(info2[0]+info2[3]), end = '\\n\\n')\n",
        "\n",
        "info3 = get_information(threshold3, 0.5)\n",
        "print('tp: ', info3[0], '\\ntn: ', info3[1], '\\nfp: ', info3[2], '\\nfn: ', info3[3],\n",
        "      '\\naccuracy: ', (info3[0]+info3[1])/(info3[0]+info3[1]+info3[2]+info3[3]), \n",
        "      '\\nprecision: ', info3[0]/(info3[0]+info3[2]), '\\nrecall: ', info3[0]/(info3[0]+info3[3]), end = '\\n\\n')\n",
        "\n",
        "info4 = get_information(threshold4, 0.7)\n",
        "print('tp: ', info4[0], '\\ntn: ', info4[1], '\\nfp: ', info4[2], '\\nfn: ', info4[3],\n",
        "      '\\naccuracy: ', (info4[0]+info4[1])/(info4[0]+info4[1]+info4[2]+info4[3]), \n",
        "      '\\nprecision: ', info4[0]/(info4[0]+info4[2]), '\\nrecall: ', info4[0]/(info4[0]+info4[3]), end = '\\n\\n')"
      ],
      "execution_count": null,
      "outputs": [
        {
          "output_type": "stream",
          "name": "stdout",
          "text": [
            "tp:  985.0 \n",
            "tn:  8554 \n",
            "fp:  446.0 \n",
            "fn:  15 \n",
            "accuracy:  0.9539 \n",
            "precision:  0.6883298 \n",
            "recall:  0.985\n",
            "\n",
            "tp:  942.0 \n",
            "tn:  8834 \n",
            "fp:  166.0 \n",
            "fn:  58 \n",
            "accuracy:  0.9776 \n",
            "precision:  0.8501805 \n",
            "recall:  0.942\n",
            "\n",
            "tp:  889.0 \n",
            "tn:  8902 \n",
            "fp:  98.0 \n",
            "fn:  111 \n",
            "accuracy:  0.9791 \n",
            "precision:  0.9007092 \n",
            "recall:  0.889\n",
            "\n",
            "tp:  796.0 \n",
            "tn:  8955 \n",
            "fp:  45.0 \n",
            "fn:  204 \n",
            "accuracy:  0.9751 \n",
            "precision:  0.94649225 \n",
            "recall:  0.796\n",
            "\n"
          ]
        }
      ]
    },
    {
      "cell_type": "markdown",
      "source": [
        "## Multiclass Classification\n",
        "\n",
        "We are now ready for the full multi-class case. Instead of using `Y_train_binary` and `Y_test_binary`, we'll use the original labels `Y_train` and `Y_test`. \n"
      ],
      "metadata": {
        "id": "Io_cuRQLQOlW"
      }
    },
    {
      "cell_type": "markdown",
      "source": [
        "### Cross-Entropy Loss\n",
        "\n",
        "Recall the log loss function (above), where $y$ is either 0 or 1:\n",
        "\n",
        "\\begin{equation}\n",
        "-y \\log(\\hat{y}) + (1−y)\\log(1−\\hat{y})\n",
        "\\end{equation}\n",
        "\n",
        "The general form for cross-entropy is used when $y$ is assumed to be a label vector with a 1 in the index of the true label and a 0 everywhere else: $y=[0,0,0,0,0,0,0,1,0,0]$ implies a label of \"sneaker\" in this dataset (the 7th label). Accordingly, $\\hat{y}$ is a vector of predicted probabilities. Then the cross-entropy loss is simply:\n",
        "\n",
        "\\begin{equation}\n",
        "-\\sum_{j} y_j \\log(\\hat{y}_j)\n",
        "\\end{equation}\n",
        "\n",
        "As in the binary case, this summation will have exactly 1 non-zero term where the true label $y_j=1$.\n",
        "\n",
        "Note that this formulation is using a *dense* representation of the label. The corresponding *sparse* representation would use the non-zero index directly ($y=7$)."
      ],
      "metadata": {
        "id": "bpn4J8oF9vly"
      }
    },
    {
      "cell_type": "markdown",
      "metadata": {
        "id": "j2OdfC1Tg41L"
      },
      "source": [
        "#### Exercise 3 (25 points)\n",
        "\n",
        "Fill in the NotImplemented parts of the `build_softmax_model` function below. You will need to make the following changes to generalize the binary case to the multi-class case:\n",
        "* The output will include 10 probabilities instead of 1.\n",
        "* Use a softmax function instead of a sigmoid to normalize output scores to a probability distribution.\n",
        "* Use a [sparse_categorical_crossentropy](https://www.tensorflow.org/api_docs/python/tf/keras/losses/sparse_categorical_crossentropy) loss instead of binary_crossentropy. Note that \"sparse\" refers to the use of a sparse index (e.g. 7) to indicate the label rather than a dense vector (e.g. [0,0,0,0,0,0,0,1,0,0]).\n",
        "\n",
        "Check that training works below."
      ]
    },
    {
      "cell_type": "code",
      "source": [
        "# Replace NotImplemented code below\n",
        "def build_softmax_model(input_shape, n_classes, learning_rate=0.1):\n",
        "  \"\"\"Build a TF logistic regression model using Keras.\n",
        "\n",
        "  Args:\n",
        "    input_shape: The shape of the model's input. \n",
        "    n_classes: Number of classes in dataset\n",
        "    learning_rate: The desired learning rate for SGD.\n",
        "\n",
        "  Returns:\n",
        "    model: A tf.keras model (graph).\n",
        "  \"\"\"\n",
        "  tf.keras.backend.clear_session()\n",
        "  tf.random.set_seed(0)\n",
        "\n",
        "  model = keras.Sequential()\n",
        "  model.add(keras.layers.Flatten(input_shape=input_shape))\n",
        "  model.add(keras.layers.Dense(\n",
        "      units=10,\n",
        "      activation='softmax'\n",
        "  ))\n",
        "\n",
        "  optimizer = tf.keras.optimizers.SGD(learning_rate=learning_rate)\n",
        "  model.compile(loss='sparse_categorical_crossentropy',\n",
        "                optimizer=optimizer, \n",
        "                metrics=['accuracy'])\n",
        "  return model"
      ],
      "metadata": {
        "id": "cochiep7OOsy"
      },
      "execution_count": null,
      "outputs": []
    },
    {
      "cell_type": "markdown",
      "source": [
        "### Training \n",
        "\n",
        "Train your model. If implemented correctly, you should reach validation accuracy 0.838 after 5 epochs."
      ],
      "metadata": {
        "id": "KBjwh6WLQmI-"
      }
    },
    {
      "cell_type": "code",
      "source": [
        "softmax_model = build_softmax_model(X_train[0].shape, len(label_names), 0.1)\n",
        "\n",
        "softmax_history = softmax_model.fit(\n",
        "  x = X_train,\n",
        "  y = Y_train,\n",
        "  epochs=5,\n",
        "  batch_size=64,\n",
        "  validation_split=0.1,\n",
        "  verbose=1)\n",
        "\n",
        "softmax_history = pd.DataFrame(softmax_history.history)\n",
        "display(softmax_history)"
      ],
      "metadata": {
        "id": "9RQDVnguPVmB",
        "colab": {
          "base_uri": "https://localhost:8080/",
          "height": 380
        },
        "outputId": "f5b834b1-431a-4de7-d3bc-9a4a20b58e61"
      },
      "execution_count": null,
      "outputs": [
        {
          "output_type": "stream",
          "name": "stdout",
          "text": [
            "Epoch 1/5\n",
            "844/844 [==============================] - 3s 3ms/step - loss: 0.6363 - accuracy: 0.7854 - val_loss: 0.5491 - val_accuracy: 0.8155\n",
            "Epoch 2/5\n",
            "844/844 [==============================] - 2s 3ms/step - loss: 0.4941 - accuracy: 0.8315 - val_loss: 0.5089 - val_accuracy: 0.8277\n",
            "Epoch 3/5\n",
            "844/844 [==============================] - 2s 2ms/step - loss: 0.4661 - accuracy: 0.8417 - val_loss: 0.4870 - val_accuracy: 0.8313\n",
            "Epoch 4/5\n",
            "844/844 [==============================] - 2s 3ms/step - loss: 0.4506 - accuracy: 0.8446 - val_loss: 0.5234 - val_accuracy: 0.8203\n",
            "Epoch 5/5\n",
            "844/844 [==============================] - 2s 2ms/step - loss: 0.4409 - accuracy: 0.8491 - val_loss: 0.4758 - val_accuracy: 0.8380\n"
          ]
        },
        {
          "output_type": "display_data",
          "data": {
            "text/plain": [
              "       loss  accuracy  val_loss  val_accuracy\n",
              "0  0.636347  0.785444  0.549123      0.815500\n",
              "1  0.494096  0.831481  0.508859      0.827667\n",
              "2  0.466115  0.841685  0.487049      0.831333\n",
              "3  0.450590  0.844556  0.523418      0.820333\n",
              "4  0.440874  0.849111  0.475797      0.838000"
            ],
            "text/html": [
              "\n",
              "  <div id=\"df-92d313dc-b5ef-4ca6-ae44-86edcce02d49\">\n",
              "    <div class=\"colab-df-container\">\n",
              "      <div>\n",
              "<style scoped>\n",
              "    .dataframe tbody tr th:only-of-type {\n",
              "        vertical-align: middle;\n",
              "    }\n",
              "\n",
              "    .dataframe tbody tr th {\n",
              "        vertical-align: top;\n",
              "    }\n",
              "\n",
              "    .dataframe thead th {\n",
              "        text-align: right;\n",
              "    }\n",
              "</style>\n",
              "<table border=\"1\" class=\"dataframe\">\n",
              "  <thead>\n",
              "    <tr style=\"text-align: right;\">\n",
              "      <th></th>\n",
              "      <th>loss</th>\n",
              "      <th>accuracy</th>\n",
              "      <th>val_loss</th>\n",
              "      <th>val_accuracy</th>\n",
              "    </tr>\n",
              "  </thead>\n",
              "  <tbody>\n",
              "    <tr>\n",
              "      <th>0</th>\n",
              "      <td>0.636347</td>\n",
              "      <td>0.785444</td>\n",
              "      <td>0.549123</td>\n",
              "      <td>0.815500</td>\n",
              "    </tr>\n",
              "    <tr>\n",
              "      <th>1</th>\n",
              "      <td>0.494096</td>\n",
              "      <td>0.831481</td>\n",
              "      <td>0.508859</td>\n",
              "      <td>0.827667</td>\n",
              "    </tr>\n",
              "    <tr>\n",
              "      <th>2</th>\n",
              "      <td>0.466115</td>\n",
              "      <td>0.841685</td>\n",
              "      <td>0.487049</td>\n",
              "      <td>0.831333</td>\n",
              "    </tr>\n",
              "    <tr>\n",
              "      <th>3</th>\n",
              "      <td>0.450590</td>\n",
              "      <td>0.844556</td>\n",
              "      <td>0.523418</td>\n",
              "      <td>0.820333</td>\n",
              "    </tr>\n",
              "    <tr>\n",
              "      <th>4</th>\n",
              "      <td>0.440874</td>\n",
              "      <td>0.849111</td>\n",
              "      <td>0.475797</td>\n",
              "      <td>0.838000</td>\n",
              "    </tr>\n",
              "  </tbody>\n",
              "</table>\n",
              "</div>\n",
              "      <button class=\"colab-df-convert\" onclick=\"convertToInteractive('df-92d313dc-b5ef-4ca6-ae44-86edcce02d49')\"\n",
              "              title=\"Convert this dataframe to an interactive table.\"\n",
              "              style=\"display:none;\">\n",
              "        \n",
              "  <svg xmlns=\"http://www.w3.org/2000/svg\" height=\"24px\"viewBox=\"0 0 24 24\"\n",
              "       width=\"24px\">\n",
              "    <path d=\"M0 0h24v24H0V0z\" fill=\"none\"/>\n",
              "    <path d=\"M18.56 5.44l.94 2.06.94-2.06 2.06-.94-2.06-.94-.94-2.06-.94 2.06-2.06.94zm-11 1L8.5 8.5l.94-2.06 2.06-.94-2.06-.94L8.5 2.5l-.94 2.06-2.06.94zm10 10l.94 2.06.94-2.06 2.06-.94-2.06-.94-.94-2.06-.94 2.06-2.06.94z\"/><path d=\"M17.41 7.96l-1.37-1.37c-.4-.4-.92-.59-1.43-.59-.52 0-1.04.2-1.43.59L10.3 9.45l-7.72 7.72c-.78.78-.78 2.05 0 2.83L4 21.41c.39.39.9.59 1.41.59.51 0 1.02-.2 1.41-.59l7.78-7.78 2.81-2.81c.8-.78.8-2.07 0-2.86zM5.41 20L4 18.59l7.72-7.72 1.47 1.35L5.41 20z\"/>\n",
              "  </svg>\n",
              "      </button>\n",
              "      \n",
              "  <style>\n",
              "    .colab-df-container {\n",
              "      display:flex;\n",
              "      flex-wrap:wrap;\n",
              "      gap: 12px;\n",
              "    }\n",
              "\n",
              "    .colab-df-convert {\n",
              "      background-color: #E8F0FE;\n",
              "      border: none;\n",
              "      border-radius: 50%;\n",
              "      cursor: pointer;\n",
              "      display: none;\n",
              "      fill: #1967D2;\n",
              "      height: 32px;\n",
              "      padding: 0 0 0 0;\n",
              "      width: 32px;\n",
              "    }\n",
              "\n",
              "    .colab-df-convert:hover {\n",
              "      background-color: #E2EBFA;\n",
              "      box-shadow: 0px 1px 2px rgba(60, 64, 67, 0.3), 0px 1px 3px 1px rgba(60, 64, 67, 0.15);\n",
              "      fill: #174EA6;\n",
              "    }\n",
              "\n",
              "    [theme=dark] .colab-df-convert {\n",
              "      background-color: #3B4455;\n",
              "      fill: #D2E3FC;\n",
              "    }\n",
              "\n",
              "    [theme=dark] .colab-df-convert:hover {\n",
              "      background-color: #434B5C;\n",
              "      box-shadow: 0px 1px 3px 1px rgba(0, 0, 0, 0.15);\n",
              "      filter: drop-shadow(0px 1px 2px rgba(0, 0, 0, 0.3));\n",
              "      fill: #FFFFFF;\n",
              "    }\n",
              "  </style>\n",
              "\n",
              "      <script>\n",
              "        const buttonEl =\n",
              "          document.querySelector('#df-92d313dc-b5ef-4ca6-ae44-86edcce02d49 button.colab-df-convert');\n",
              "        buttonEl.style.display =\n",
              "          google.colab.kernel.accessAllowed ? 'block' : 'none';\n",
              "\n",
              "        async function convertToInteractive(key) {\n",
              "          const element = document.querySelector('#df-92d313dc-b5ef-4ca6-ae44-86edcce02d49');\n",
              "          const dataTable =\n",
              "            await google.colab.kernel.invokeFunction('convertToInteractive',\n",
              "                                                     [key], {});\n",
              "          if (!dataTable) return;\n",
              "\n",
              "          const docLinkHtml = 'Like what you see? Visit the ' +\n",
              "            '<a target=\"_blank\" href=https://colab.research.google.com/notebooks/data_table.ipynb>data table notebook</a>'\n",
              "            + ' to learn more about interactive tables.';\n",
              "          element.innerHTML = '';\n",
              "          dataTable['output_type'] = 'display_data';\n",
              "          await google.colab.output.renderOutput(dataTable, element);\n",
              "          const docLink = document.createElement('div');\n",
              "          docLink.innerHTML = docLinkHtml;\n",
              "          element.appendChild(docLink);\n",
              "        }\n",
              "      </script>\n",
              "    </div>\n",
              "  </div>\n",
              "  "
            ]
          },
          "metadata": {}
        }
      ]
    },
    {
      "cell_type": "markdown",
      "source": [
        "### Inference\n",
        "\n",
        "As in the binary case, we can use our trained model to predict probabilities for new examples. Now that we have an output distribution over 10 class, the `predict` function will produce the corresponding 10 probabilities. We can use `argmax` to select the index of the highest probability."
      ],
      "metadata": {
        "id": "uH-ztYRQOvyG"
      }
    },
    {
      "cell_type": "code",
      "source": [
        "# Recall that model.predict gives a vector of probabilities for each x.\n",
        "# Get labels by taking the argmax -- the index with the largest probability.\n",
        "softmax_test_predictions = np.argmax(softmax_model.predict(X_test), axis=-1)\n",
        "print(softmax_test_predictions)"
      ],
      "metadata": {
        "id": "H-A9Ej7t-GIH",
        "colab": {
          "base_uri": "https://localhost:8080/"
        },
        "outputId": "13b7ef89-dc97-433d-912b-fbad73e043c4"
      },
      "execution_count": null,
      "outputs": [
        {
          "output_type": "stream",
          "name": "stdout",
          "text": [
            "313/313 [==============================] - 1s 2ms/step\n",
            "[9 2 1 ... 8 1 5]\n"
          ]
        }
      ]
    },
    {
      "cell_type": "markdown",
      "source": [
        "### Evaluation\n",
        "\n",
        "Overall accuracy gives a very limited picture of the model's performance. A confusion matrix gives a much deeper summary."
      ],
      "metadata": {
        "id": "a2T7-uL6-HnB"
      }
    },
    {
      "cell_type": "code",
      "source": [
        "# Create a confusion matrix as a 2D array.\n",
        "softmax_confusion_matrix = tf.math.confusion_matrix(Y_test,\n",
        "                                                    softmax_test_predictions)\n",
        "\n",
        "# Use a heatmap plot to display it.\n",
        "ax = sns.heatmap(softmax_confusion_matrix, annot=True, fmt='.3g', cmap='Blues',\n",
        "                 xticklabels=label_names, yticklabels=label_names, cbar=False)\n",
        "\n",
        "# Add axis labels.\n",
        "ax.set(xlabel='Predicted Label', ylabel='True Label')\n",
        "plt.show()"
      ],
      "metadata": {
        "id": "bwe9J8FJ-I0X",
        "colab": {
          "base_uri": "https://localhost:8080/",
          "height": 333
        },
        "outputId": "bd2e528f-e6e9-49eb-897a-ef5f2bb75498"
      },
      "execution_count": null,
      "outputs": [
        {
          "output_type": "display_data",
          "data": {
            "text/plain": [
              "<Figure size 432x288 with 1 Axes>"
            ],
            "image/png": "[encoded data removed]"
          },
          "metadata": {}
        }
      ]
    },
    {
      "cell_type": "markdown",
      "source": [
        "## Feed Forward Neural Network Classification\n",
        "\n",
        "We're now ready to build our first neural network. This is as easy as adding \"hidden\" layers to our model structure."
      ],
      "metadata": {
        "id": "Yb9mapxy-Kkv"
      }
    },
    {
      "cell_type": "markdown",
      "source": [
        "### Exercise 4 (25 points)\n",
        "\n",
        "Fill in the implementation of the `build_ffnn_softmax_model` function below. This will be almost identical to `build_softmax_model` (above), but should include **2 hidden layers**, each with **128 units**, and each using a **relu activation**."
      ],
      "metadata": {
        "id": "qPJAlv9m-MQS"
      }
    },
    {
      "cell_type": "code",
      "source": [
        "def build_ffnn_softmax_model(input_shape, n_classes, learning_rate=0.1):\n",
        "  \"\"\"Build a TF feed-forward neural network model using Keras.\n",
        "\n",
        "  Args:\n",
        "    input_shape: The shape of the model's input. \n",
        "    n_classes: Number of classes in dataset\n",
        "    learning_rate: The desired learning rate for SGD.\n",
        "\n",
        "  Returns:\n",
        "    model: A tf.keras model (graph).\n",
        "  \"\"\"\n",
        "  tf.keras.backend.clear_session()\n",
        "  tf.random.set_seed(0)\n",
        "\n",
        "  model = keras.Sequential()\n",
        "\n",
        "  # YOUR CODE HERE\n",
        "\n",
        "  model.add(keras.layers.Flatten(input_shape=input_shape))\n",
        "  model.add(keras.layers.Dense(\n",
        "      units=128,\n",
        "      activation='relu'\n",
        "  ))\n",
        "  model.add(keras.layers.Dense(\n",
        "      units=128,\n",
        "      activation='relu'\n",
        "  ))\n",
        "  model.add(keras.layers.Dense(\n",
        "      units=10,\n",
        "      activation='softmax'\n",
        "  ))\n",
        "\n",
        "  optimizer = tf.keras.optimizers.SGD(learning_rate=learning_rate)\n",
        "  model.compile(loss='sparse_categorical_crossentropy',\n",
        "                optimizer=optimizer, \n",
        "                metrics=['accuracy'])\n",
        "\n",
        "  return model"
      ],
      "metadata": {
        "id": "UiAryW-F-O3V"
      },
      "execution_count": null,
      "outputs": []
    },
    {
      "cell_type": "markdown",
      "source": [
        "### Training \n",
        "\n",
        "Train your model. If implemented correctly, you should reach validation accuracy 0.867 after 5 epochs."
      ],
      "metadata": {
        "id": "yYojNqIW-RQP"
      }
    },
    {
      "cell_type": "code",
      "source": [
        "ffnn_softmax_model = build_ffnn_softmax_model(\n",
        "    X_train[0].shape, len(label_names), 0.1)\n",
        "\n",
        "ffnn_softmax_history = ffnn_softmax_model.fit(\n",
        "  x = X_train,\n",
        "  y = Y_train,\n",
        "  epochs=5,\n",
        "  batch_size=64,\n",
        "  validation_split=0.1,\n",
        "  verbose=1)\n",
        "\n",
        "ffnn_softmax_history = pd.DataFrame(ffnn_softmax_history.history)\n",
        "display(ffnn_softmax_history)"
      ],
      "metadata": {
        "id": "S636qN4q-S0l",
        "colab": {
          "base_uri": "https://localhost:8080/",
          "height": 380
        },
        "outputId": "fd89e9ff-44ba-4a16-89bf-706f1bf522d5"
      },
      "execution_count": null,
      "outputs": [
        {
          "output_type": "stream",
          "name": "stdout",
          "text": [
            "Epoch 1/5\n",
            "844/844 [==============================] - 5s 5ms/step - loss: 0.6011 - accuracy: 0.7847 - val_loss: 0.4830 - val_accuracy: 0.8275\n",
            "Epoch 2/5\n",
            "844/844 [==============================] - 4s 5ms/step - loss: 0.4204 - accuracy: 0.8482 - val_loss: 0.4463 - val_accuracy: 0.8395\n",
            "Epoch 3/5\n",
            "844/844 [==============================] - 5s 5ms/step - loss: 0.3761 - accuracy: 0.8624 - val_loss: 0.3852 - val_accuracy: 0.8607\n",
            "Epoch 4/5\n",
            "844/844 [==============================] - 5s 5ms/step - loss: 0.3477 - accuracy: 0.8726 - val_loss: 0.3793 - val_accuracy: 0.8612\n",
            "Epoch 5/5\n",
            "844/844 [==============================] - 4s 5ms/step - loss: 0.3301 - accuracy: 0.8774 - val_loss: 0.3593 - val_accuracy: 0.8672\n"
          ]
        },
        {
          "output_type": "display_data",
          "data": {
            "text/plain": [
              "       loss  accuracy  val_loss  val_accuracy\n",
              "0  0.601075  0.784685  0.483043      0.827500\n",
              "1  0.420396  0.848204  0.446317      0.839500\n",
              "2  0.376087  0.862426  0.385169      0.860667\n",
              "3  0.347713  0.872611  0.379310      0.861167\n",
              "4  0.330054  0.877444  0.359349      0.867167"
            ],
            "text/html": [
              "\n",
              "  <div id=\"df-ca50afdc-60b0-4ced-83b6-f0f10729f909\">\n",
              "    <div class=\"colab-df-container\">\n",
              "      <div>\n",
              "<style scoped>\n",
              "    .dataframe tbody tr th:only-of-type {\n",
              "        vertical-align: middle;\n",
              "    }\n",
              "\n",
              "    .dataframe tbody tr th {\n",
              "        vertical-align: top;\n",
              "    }\n",
              "\n",
              "    .dataframe thead th {\n",
              "        text-align: right;\n",
              "    }\n",
              "</style>\n",
              "<table border=\"1\" class=\"dataframe\">\n",
              "  <thead>\n",
              "    <tr style=\"text-align: right;\">\n",
              "      <th></th>\n",
              "      <th>loss</th>\n",
              "      <th>accuracy</th>\n",
              "      <th>val_loss</th>\n",
              "      <th>val_accuracy</th>\n",
              "    </tr>\n",
              "  </thead>\n",
              "  <tbody>\n",
              "    <tr>\n",
              "      <th>0</th>\n",
              "      <td>0.601075</td>\n",
              "      <td>0.784685</td>\n",
              "      <td>0.483043</td>\n",
              "      <td>0.827500</td>\n",
              "    </tr>\n",
              "    <tr>\n",
              "      <th>1</th>\n",
              "      <td>0.420396</td>\n",
              "      <td>0.848204</td>\n",
              "      <td>0.446317</td>\n",
              "      <td>0.839500</td>\n",
              "    </tr>\n",
              "    <tr>\n",
              "      <th>2</th>\n",
              "      <td>0.376087</td>\n",
              "      <td>0.862426</td>\n",
              "      <td>0.385169</td>\n",
              "      <td>0.860667</td>\n",
              "    </tr>\n",
              "    <tr>\n",
              "      <th>3</th>\n",
              "      <td>0.347713</td>\n",
              "      <td>0.872611</td>\n",
              "      <td>0.379310</td>\n",
              "      <td>0.861167</td>\n",
              "    </tr>\n",
              "    <tr>\n",
              "      <th>4</th>\n",
              "      <td>0.330054</td>\n",
              "      <td>0.877444</td>\n",
              "      <td>0.359349</td>\n",
              "      <td>0.867167</td>\n",
              "    </tr>\n",
              "  </tbody>\n",
              "</table>\n",
              "</div>\n",
              "      <button class=\"colab-df-convert\" onclick=\"convertToInteractive('df-ca50afdc-60b0-4ced-83b6-f0f10729f909')\"\n",
              "              title=\"Convert this dataframe to an interactive table.\"\n",
              "              style=\"display:none;\">\n",
              "        \n",
              "  <svg xmlns=\"http://www.w3.org/2000/svg\" height=\"24px\"viewBox=\"0 0 24 24\"\n",
              "       width=\"24px\">\n",
              "    <path d=\"M0 0h24v24H0V0z\" fill=\"none\"/>\n",
              "    <path d=\"M18.56 5.44l.94 2.06.94-2.06 2.06-.94-2.06-.94-.94-2.06-.94 2.06-2.06.94zm-11 1L8.5 8.5l.94-2.06 2.06-.94-2.06-.94L8.5 2.5l-.94 2.06-2.06.94zm10 10l.94 2.06.94-2.06 2.06-.94-2.06-.94-.94-2.06-.94 2.06-2.06.94z\"/><path d=\"M17.41 7.96l-1.37-1.37c-.4-.4-.92-.59-1.43-.59-.52 0-1.04.2-1.43.59L10.3 9.45l-7.72 7.72c-.78.78-.78 2.05 0 2.83L4 21.41c.39.39.9.59 1.41.59.51 0 1.02-.2 1.41-.59l7.78-7.78 2.81-2.81c.8-.78.8-2.07 0-2.86zM5.41 20L4 18.59l7.72-7.72 1.47 1.35L5.41 20z\"/>\n",
              "  </svg>\n",
              "      </button>\n",
              "      \n",
              "  <style>\n",
              "    .colab-df-container {\n",
              "      display:flex;\n",
              "      flex-wrap:wrap;\n",
              "      gap: 12px;\n",
              "    }\n",
              "\n",
              "    .colab-df-convert {\n",
              "      background-color: #E8F0FE;\n",
              "      border: none;\n",
              "      border-radius: 50%;\n",
              "      cursor: pointer;\n",
              "      display: none;\n",
              "      fill: #1967D2;\n",
              "      height: 32px;\n",
              "      padding: 0 0 0 0;\n",
              "      width: 32px;\n",
              "    }\n",
              "\n",
              "    .colab-df-convert:hover {\n",
              "      background-color: #E2EBFA;\n",
              "      box-shadow: 0px 1px 2px rgba(60, 64, 67, 0.3), 0px 1px 3px 1px rgba(60, 64, 67, 0.15);\n",
              "      fill: #174EA6;\n",
              "    }\n",
              "\n",
              "    [theme=dark] .colab-df-convert {\n",
              "      background-color: #3B4455;\n",
              "      fill: #D2E3FC;\n",
              "    }\n",
              "\n",
              "    [theme=dark] .colab-df-convert:hover {\n",
              "      background-color: #434B5C;\n",
              "      box-shadow: 0px 1px 3px 1px rgba(0, 0, 0, 0.15);\n",
              "      filter: drop-shadow(0px 1px 2px rgba(0, 0, 0, 0.3));\n",
              "      fill: #FFFFFF;\n",
              "    }\n",
              "  </style>\n",
              "\n",
              "      <script>\n",
              "        const buttonEl =\n",
              "          document.querySelector('#df-ca50afdc-60b0-4ced-83b6-f0f10729f909 button.colab-df-convert');\n",
              "        buttonEl.style.display =\n",
              "          google.colab.kernel.accessAllowed ? 'block' : 'none';\n",
              "\n",
              "        async function convertToInteractive(key) {\n",
              "          const element = document.querySelector('#df-ca50afdc-60b0-4ced-83b6-f0f10729f909');\n",
              "          const dataTable =\n",
              "            await google.colab.kernel.invokeFunction('convertToInteractive',\n",
              "                                                     [key], {});\n",
              "          if (!dataTable) return;\n",
              "\n",
              "          const docLinkHtml = 'Like what you see? Visit the ' +\n",
              "            '<a target=\"_blank\" href=https://colab.research.google.com/notebooks/data_table.ipynb>data table notebook</a>'\n",
              "            + ' to learn more about interactive tables.';\n",
              "          element.innerHTML = '';\n",
              "          dataTable['output_type'] = 'display_data';\n",
              "          await google.colab.output.renderOutput(dataTable, element);\n",
              "          const docLink = document.createElement('div');\n",
              "          docLink.innerHTML = docLinkHtml;\n",
              "          element.appendChild(docLink);\n",
              "        }\n",
              "      </script>\n",
              "    </div>\n",
              "  </div>\n",
              "  "
            ]
          },
          "metadata": {}
        }
      ]
    },
    {
      "cell_type": "code",
      "source": [
        "ffnn_softmax_model.summary()\n"
      ],
      "metadata": {
        "id": "eZ9V_F1Y-UUT",
        "colab": {
          "base_uri": "https://localhost:8080/"
        },
        "outputId": "cf4dd8a8-1592-4efd-de18-763beb751d96"
      },
      "execution_count": null,
      "outputs": [
        {
          "output_type": "stream",
          "name": "stdout",
          "text": [
            "Model: \"sequential\"\n",
            "_________________________________________________________________\n",
            " Layer (type)                Output Shape              Param #   \n",
            "=================================================================\n",
            " flatten (Flatten)           (None, 784)               0         \n",
            "                                                                 \n",
            " dense (Dense)               (None, 128)               100480    \n",
            "                                                                 \n",
            " dense_1 (Dense)             (None, 128)               16512     \n",
            "                                                                 \n",
            " dense_2 (Dense)             (None, 10)                1290      \n",
            "                                                                 \n",
            "=================================================================\n",
            "Total params: 118,282\n",
            "Trainable params: 118,282\n",
            "Non-trainable params: 0\n",
            "_________________________________________________________________\n"
          ]
        }
      ]
    },
    {
      "cell_type": "markdown",
      "source": [
        "### Evaluation\n",
        "\n",
        "Let's compare the confusion matrices for the linear model (softmax_model) and the neural network model (ffnn_softmax_model) to see which specific confusions are fixed by the improved model."
      ],
      "metadata": {
        "id": "Wz5XkExM-WEa"
      }
    },
    {
      "cell_type": "code",
      "source": [
        "ffnn_softmax_test_predictions = np.argmax(\n",
        "    ffnn_softmax_model.predict(X_test), axis=-1)\n",
        "\n",
        "# Create a confusion matrix as a 2D array.\n",
        "ffnn_softmax_confusion_matrix = tf.math.confusion_matrix(\n",
        "    Y_test, ffnn_softmax_test_predictions)\n",
        "\n",
        "# Use a heatmap plot to display it.\n",
        "diff_confusion_matrix = ffnn_softmax_confusion_matrix - softmax_confusion_matrix\n",
        "ax = sns.heatmap(diff_confusion_matrix, annot=True, fmt='.3g', cmap='Blues',\n",
        "                 xticklabels=label_names, yticklabels=label_names, cbar=False)\n",
        "\n",
        "# Add axis labels.\n",
        "ax.set(xlabel='Predicted Label', ylabel='True Label')\n",
        "plt.show()"
      ],
      "metadata": {
        "id": "nDV661vg-XbB",
        "colab": {
          "base_uri": "https://localhost:8080/",
          "height": 350
        },
        "outputId": "2b9bac8a-125e-45ca-d9e1-237aac2e8426"
      },
      "execution_count": null,
      "outputs": [
        {
          "output_type": "stream",
          "name": "stdout",
          "text": [
            "313/313 [==============================] - 1s 2ms/step\n"
          ]
        },
        {
          "output_type": "display_data",
          "data": {
            "text/plain": [
              "<Figure size 432x288 with 1 Axes>"
            ],
            "image/png": "[encoded data removed]"
          },
          "metadata": {}
        }
      ]
    },
    {
      "cell_type": "markdown",
      "source": [
        "#### Exercise 5 (ungraded - 0 points - just for extra fun)\n",
        "\n",
        "a. In this confusion matrix of differences, what do the diagonal values represent, and what do the off-diagonal values represent?\n",
        "\n",
        "b. Which confused pair is most improved by the neural network model?"
      ],
      "metadata": {
        "id": "NeIE2pZ6-apv"
      }
    },
    {
      "cell_type": "markdown",
      "source": [
        "WRITE YOUR ANSWERS HERE\n",
        "\n",
        "a. The diagonal values represent the imporvements that were made, where the number of true postivies that the FNN made is being compared to the logistic regression. The off-diagonal values are the opposite, where it represents the number of incorrect classification that the FNN made compared to the logistic regression.\n",
        "\n",
        "b. The pullover and shirt pair was improved the most by the neural network model."
      ],
      "metadata": {
        "id": "YjCsTvSB-kXo"
      }
    },
    {
      "cell_type": "markdown",
      "source": [
        "## Submission Instructions\n",
        "\n",
        "1. File > Download .ipynb\n",
        "2. Go to Blackboard, find the submission page, and upload the .ipynb file you just downloaded."
      ],
      "metadata": {
        "id": "HAWUwNgkPcMX"
      }
    }
  ]
}